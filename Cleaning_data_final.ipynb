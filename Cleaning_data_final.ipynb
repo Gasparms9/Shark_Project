{
 "cells": [
  {
   "cell_type": "markdown",
   "id": "d0366db3",
   "metadata": {},
   "source": [
    "# Exploration and cleaning of the data"
   ]
  },
  {
   "cell_type": "markdown",
   "id": "e62b8a5f",
   "metadata": {},
   "source": [
    "Let's load functions, librarys, modules and datasets for the cleaning of the data."
   ]
  },
  {
   "cell_type": "code",
   "execution_count": 1,
   "id": "b5d2572d",
   "metadata": {},
   "outputs": [],
   "source": [
    "import sys\n",
    "sys.path.append(r\"C:\\Users\\lenovo\\Desktop\\My_first_project\\My_project\\src\")\n",
    "from cleaning_functions import*"
   ]
  },
  {
   "cell_type": "code",
   "execution_count": 2,
   "id": "68a6987e",
   "metadata": {},
   "outputs": [],
   "source": [
    "import numpy as np\n",
    "import pandas as pd\n",
    "import re\n",
    "import matplotlib.pyplot as plt\n",
    "import seaborn as sns"
   ]
  },
  {
   "cell_type": "code",
   "execution_count": 3,
   "id": "b7211162",
   "metadata": {},
   "outputs": [],
   "source": [
    "GSAF = r\"C:\\Users\\lenovo\\Desktop\\My_first_project\\My_project\\input\\attacks.csv\"\n",
    "\n",
    "df = pd.read_csv(GSAF, encoding = \"ISO-8859-1\")"
   ]
  },
  {
   "cell_type": "markdown",
   "id": "b19db2cf",
   "metadata": {},
   "source": [
    "## Cleaning"
   ]
  },
  {
   "cell_type": "code",
   "execution_count": 4,
   "id": "e76050fb",
   "metadata": {},
   "outputs": [],
   "source": [
    "df.drop(\"Unnamed: 22\", inplace = True, axis=1) #deleting unnamed 22\n",
    "df.drop(\"Unnamed: 23\", inplace = True, axis=1)\n",
    "df.drop(\"Case Number.2\", inplace = True, axis=1)# deleting case number 2, duplicated\n",
    "df.drop(\"href formula\", inplace = True, axis=1) #deleting href formula, duplicated"
   ]
  },
  {
   "cell_type": "code",
   "execution_count": 5,
   "id": "d6f7fe47",
   "metadata": {},
   "outputs": [],
   "source": [
    "df.dropna(axis=0, inplace= True, how='all') ## #i delete all rows which are only Nan"
   ]
  },
  {
   "cell_type": "markdown",
   "id": "ce036774",
   "metadata": {},
   "source": [
    "## Variable: Year."
   ]
  },
  {
   "cell_type": "markdown",
   "id": "a0b30c1e",
   "metadata": {},
   "source": [
    "I want to have all the information in numerical form for better management."
   ]
  },
  {
   "cell_type": "code",
   "execution_count": 6,
   "id": "998c4c41",
   "metadata": {},
   "outputs": [],
   "source": [
    "new_Date = df[\"Year\"].astype(str)\n",
    "\n",
    "new_Date = new_Date.str.replace(\"-\", \"/\")\n",
    "new_Date = new_Date.str.replace(\" \", \"/\")\n",
    "new_Date = new_Date.str.replace(\"Jan\", \"01\")\n",
    "new_Date = new_Date.str.replace(\"Feb\", \"02\")\n",
    "new_Date = new_Date.str.replace(\"Mar\", \"03\")\n",
    "new_Date = new_Date.str.replace(\"Apr\", \"04\")\n",
    "new_Date = new_Date.str.replace(\"May\", \"05\")\n",
    "new_Date = new_Date.str.replace(\"Jun\", \"06\")\n",
    "new_Date = new_Date.str.replace(\"Jul\", \"07\")\n",
    "new_Date = new_Date.str.replace(\"Aug\", \"08\")\n",
    "new_Date = new_Date.str.replace(\"Sep\", \"09\")\n",
    "new_Date = new_Date.str.replace(\"Oct\", \"10\")\n",
    "new_Date = new_Date.str.replace(\"Nov\", \"11\")\n",
    "new_Date = new_Date.str.replace(\"Dec\", \"12\")\n",
    "df[\"Date\"] = new_Date\n"
   ]
  },
  {
   "cell_type": "code",
   "execution_count": 7,
   "id": "14108ae7",
   "metadata": {},
   "outputs": [
    {
     "data": {
      "text/plain": [
       "<bound method Axes.scatter of <AxesSubplot:>>"
      ]
     },
     "execution_count": 7,
     "metadata": {},
     "output_type": "execute_result"
    },
    {
     "data": {
      "image/png": "[encoded data removed]",
      "text/plain": [
       "<Figure size 432x288 with 1 Axes>"
      ]
     },
     "metadata": {
      "needs_background": "light"
     },
     "output_type": "display_data"
    }
   ],
   "source": [
    "df[\"Year_1900\"] = df[df['Year']>1800]['Year']  ## i only want Years after 1900 becouse before just makes the graphs messy.\n",
    "##i dont find them relevant\n",
    "df[\"Year_1900\"] = df[df[\"Year_1900\"]<2018][\"Year_1900\"]\n",
    " \n",
    "df[\"Year_1900\"].value_counts().sort_index().plot().scatter"
   ]
  },
  {
   "cell_type": "markdown",
   "id": "7011cf62",
   "metadata": {},
   "source": [
    "### Variable: Gender."
   ]
  },
  {
   "cell_type": "markdown",
   "id": "47d88e49",
   "metadata": {},
   "source": [
    "I used the function to only get \"M\" or \"F\" in my Gender column."
   ]
  },
  {
   "cell_type": "code",
   "execution_count": 8,
   "id": "bd714e36",
   "metadata": {},
   "outputs": [
    {
     "data": {
      "text/plain": [
       "Man      5096\n",
       "Woman     637\n",
       "Name: Sex , dtype: int64"
      ]
     },
     "execution_count": 8,
     "metadata": {},
     "output_type": "execute_result"
    }
   ],
   "source": [
    "df[\"Sex \"]= df[\"Sex \"].apply(gender_cleaning)\n",
    "df[\"Sex \"].value_counts()"
   ]
  },
  {
   "cell_type": "markdown",
   "id": "a518dc8a",
   "metadata": {},
   "source": [
    "### Variable: Age."
   ]
  },
  {
   "cell_type": "markdown",
   "id": "ef634ff1",
   "metadata": {},
   "source": [
    "I used the function to remove all values who cant be integers. There are only integers left, ranging from 5 to 90. "
   ]
  },
  {
   "cell_type": "code",
   "execution_count": 9,
   "id": "78fde1a5",
   "metadata": {},
   "outputs": [],
   "source": [
    "df[\"Age\"] = df[\"Age\"].apply(age_cleaning)"
   ]
  },
  {
   "cell_type": "markdown",
   "id": "007305f0",
   "metadata": {},
   "source": [
    "### Variable: Date."
   ]
  },
  {
   "cell_type": "markdown",
   "id": "2bf0545a",
   "metadata": {},
   "source": [
    "Whit the Date variable, i get the variable of the columns \"Href\", which has a cleaner data than the \"Date\" column itself.\n",
    "Then, i convert it to a datetime object, using pd.to_datetime"
   ]
  },
  {
   "cell_type": "code",
   "execution_count": 10,
   "id": "a5b9ccf0",
   "metadata": {},
   "outputs": [],
   "source": [
    "get_date = \"\\d{4}\\.\\d{2}\\.\\d{2}\" #here i get the dates of href, whcih are at the end and its more clean data\n",
    "\n",
    "df[\"New_dates\"] = df[\"href\"].apply(lambda x: re.findall(get_date, str(x))).explode()\n",
    "df[\"New_dates\"] = df[\"New_dates\"].apply(autoconvert_format)"
   ]
  },
  {
   "cell_type": "code",
   "execution_count": 11,
   "id": "53f46a83",
   "metadata": {},
   "outputs": [],
   "source": [
    "df[\"New_dates\"] = df[\"New_dates\"].apply(autoconvert_format) ## here i apply the function to convert to datetime object, or\n",
    "## return nan"
   ]
  },
  {
   "cell_type": "code",
   "execution_count": 12,
   "id": "5de82c5a",
   "metadata": {},
   "outputs": [],
   "source": [
    "df[\"Final_dates\"] = pd.to_datetime(df[\"New_dates\"], errors=\"coerce\") ## i do it again for if the flies."
   ]
  },
  {
   "cell_type": "markdown",
   "id": "cc8e0e04",
   "metadata": {},
   "source": [
    "Now, when i have the datetime object, i can convert it easly to days and months using functions:"
   ]
  },
  {
   "cell_type": "code",
   "execution_count": 13,
   "id": "e716983a",
   "metadata": {},
   "outputs": [],
   "source": [
    "df[\"Day_of_week\"] = df[\"Final_dates\"].dt.day_name() #i create column for the day and the month the attack happened\n",
    "df[\"Month\"] = df[\"Final_dates\"].dt.month_name()"
   ]
  },
  {
   "cell_type": "code",
   "execution_count": 14,
   "id": "cf9347c2",
   "metadata": {},
   "outputs": [],
   "source": [
    "date_filter = (df[\"Final_dates\"] <= \"2020\") & (df[\"Final_dates\"] > \"1900\")\n",
    "df = df.loc[date_filter] ##finally i just want dates before 2020 and after 1900."
   ]
  },
  {
   "cell_type": "markdown",
   "id": "96a80b3b",
   "metadata": {},
   "source": [
    "## Variable: Activities."
   ]
  },
  {
   "cell_type": "markdown",
   "id": "4a21c13c",
   "metadata": {},
   "source": [
    "I want to organize all diferent data only into 9 different variables."
   ]
  },
  {
   "cell_type": "code",
   "execution_count": 15,
   "id": "426cdf1c",
   "metadata": {},
   "outputs": [],
   "source": [
    "df[\"Activity\"] = df[\"Activity\"].apply(activites_cleaning)"
   ]
  },
  {
   "cell_type": "code",
   "execution_count": 16,
   "id": "0f650b60",
   "metadata": {},
   "outputs": [
    {
     "data": {
      "text/plain": [
       "Surf                      1256\n",
       "Swimming                  1047\n",
       "Fishing                    876\n",
       "Diving                     532\n",
       "Boating                    238\n",
       "Walking near the water     194\n",
       "Standing                   106\n",
       "Sea catastrophe             22\n",
       "SHARKNADO??                  1\n",
       "Name: Activity, dtype: int64"
      ]
     },
     "execution_count": 16,
     "metadata": {},
     "output_type": "execute_result"
    }
   ],
   "source": [
    "df[\"Activity\"].value_counts().head(10)"
   ]
  },
  {
   "cell_type": "markdown",
   "id": "3a8a2631",
   "metadata": {},
   "source": [
    "### Variable: Type."
   ]
  },
  {
   "cell_type": "markdown",
   "id": "cc7c05e4",
   "metadata": {},
   "source": [
    "I clean the type of attack and organize it only into \"Provoked attack\" or \"Unprovoked attack\"."
   ]
  },
  {
   "cell_type": "code",
   "execution_count": 17,
   "id": "72dd5340",
   "metadata": {},
   "outputs": [],
   "source": [
    "df[\"Type\"] = df[\"Type\"].apply(type_cleaning)"
   ]
  },
  {
   "cell_type": "code",
   "execution_count": null,
   "id": "9c2c4edf",
   "metadata": {},
   "outputs": [],
   "source": []
  },
  {
   "cell_type": "markdown",
   "id": "2bbdb41e",
   "metadata": {},
   "source": [
    "### Variable: Fatality."
   ]
  },
  {
   "cell_type": "markdown",
   "id": "1f8c17e3",
   "metadata": {},
   "source": [
    "Clean the variable and organize it only into \"Barely alive\" or \"Fatal attack\"."
   ]
  },
  {
   "cell_type": "code",
   "execution_count": null,
   "id": "381bdd9d",
   "metadata": {},
   "outputs": [],
   "source": []
  },
  {
   "cell_type": "code",
   "execution_count": 18,
   "id": "87332141",
   "metadata": {},
   "outputs": [],
   "source": [
    "df[\"Fatal (Y/N)\"] = df[\"Fatal (Y/N)\"].apply(fatality_clean)"
   ]
  },
  {
   "cell_type": "code",
   "execution_count": 19,
   "id": "b496c007",
   "metadata": {},
   "outputs": [
    {
     "data": {
      "text/plain": [
       "Barely alive    4095\n",
       "Fatal attack     868\n",
       "Name: Fatal (Y/N), dtype: int64"
      ]
     },
     "execution_count": 19,
     "metadata": {},
     "output_type": "execute_result"
    }
   ],
   "source": [
    "df[\"Fatal (Y/N)\"].value_counts()"
   ]
  },
  {
   "cell_type": "code",
   "execution_count": 20,
   "id": "adfde5bd",
   "metadata": {},
   "outputs": [
    {
     "data": {
      "text/plain": [
       "Barely alive    4095\n",
       "Fatal attack     868\n",
       "Name: Fatal (Y/N), dtype: int64"
      ]
     },
     "execution_count": 20,
     "metadata": {},
     "output_type": "execute_result"
    }
   ],
   "source": [
    "df[\"Fatal (Y/N)\"].value_counts()"
   ]
  },
  {
   "cell_type": "markdown",
   "id": "46a70688",
   "metadata": {},
   "source": [
    "### Variable: Species."
   ]
  },
  {
   "cell_type": "markdown",
   "id": "2b8b0416",
   "metadata": {},
   "source": [
    "I want to organize all diferent data of the species column only into 11 different variables."
   ]
  },
  {
   "cell_type": "code",
   "execution_count": 21,
   "id": "ddef3608",
   "metadata": {},
   "outputs": [],
   "source": [
    "df[\"Species \"] = df[\"Species \"].apply(shark_species)"
   ]
  },
  {
   "cell_type": "markdown",
   "id": "3d515037",
   "metadata": {},
   "source": [
    "### Variable: Country."
   ]
  },
  {
   "cell_type": "markdown",
   "id": "24fdc976",
   "metadata": {},
   "source": [
    "I want to organize all diferent data of the countries column only into 14 different variables."
   ]
  },
  {
   "cell_type": "code",
   "execution_count": 22,
   "id": "0934c544",
   "metadata": {},
   "outputs": [],
   "source": [
    "df[\"Country\"] = df[\"Country\"].apply(country_cleaning)"
   ]
  },
  {
   "cell_type": "markdown",
   "id": "dbed3825",
   "metadata": {},
   "source": [
    "### Export."
   ]
  },
  {
   "cell_type": "markdown",
   "id": "bd84b0eb",
   "metadata": {},
   "source": [
    "Export the clean data frame to a new CSV file"
   ]
  },
  {
   "cell_type": "code",
   "execution_count": 23,
   "id": "a68505a9",
   "metadata": {},
   "outputs": [],
   "source": [
    "df.to_csv(\"src/clean_sharks.csv\",index=False)"
   ]
  },
  {
   "cell_type": "code",
   "execution_count": null,
   "id": "c3ff4278",
   "metadata": {},
   "outputs": [],
   "source": []
  },
  {
   "cell_type": "code",
   "execution_count": null,
   "id": "8febbaf6",
   "metadata": {},
   "outputs": [],
   "source": []
  }
 ],
 "metadata": {
  "kernelspec": {
   "display_name": "Python 3 (ipykernel)",
   "language": "python",
   "name": "python3"
  },
  "language_info": {
   "codemirror_mode": {
    "name": "ipython",
    "version": 3
   },
   "file_extension": ".py",
   "mimetype": "text/x-python",
   "name": "python",
   "nbconvert_exporter": "python",
   "pygments_lexer": "ipython3",
   "version": "3.9.12"
  }
 },
 "nbformat": 4,
 "nbformat_minor": 5
}
